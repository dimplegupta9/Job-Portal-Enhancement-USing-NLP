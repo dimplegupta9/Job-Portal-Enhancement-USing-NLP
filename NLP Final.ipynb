{
 "cells": [
  {
   "cell_type": "code",
   "execution_count": null,
   "id": "7c75b6e6",
   "metadata": {},
   "outputs": [],
   "source": []
  },
  {
   "cell_type": "code",
   "execution_count": 1,
   "id": "4a2d4ef1",
   "metadata": {},
   "outputs": [],
   "source": [
    "from keras.models import load_model\n",
    "import tensorflow as tf\n",
    "import pydot\n",
    "from tensorflow.keras.models import Sequential\n",
    "from nltk.corpus import stopwords\n",
    "from collections import Counter"
   ]
  },
  {
   "cell_type": "code",
   "execution_count": 2,
   "id": "e6db28ce",
   "metadata": {},
   "outputs": [],
   "source": [
    "# Import required libraries\n",
    "import PyPDF2\n",
    "import re\n",
    "import string\n",
    "import pandas as pd\n",
    "import matplotlib.pyplot as plt\n",
    "from transformers import BertTokenizer\n",
    "from transformers import BertTokenizer, TFBertModel\n",
    "from transformers import BertTokenizer, BertForSequenceClassification\n",
    "from transformers import AutoTokenizer, AutoModelForSequenceClassification\n",
    "from transformers import BertForSequenceClassification\n",
    "from transformers import BertTokenizer, BertForTokenClassification\n",
    "import torch\n",
    "%matplotlib inline"
   ]
  },
  {
   "cell_type": "code",
   "execution_count": 3,
   "id": "5d06dc30",
   "metadata": {},
   "outputs": [],
   "source": [
    "file = r\"C:\\Users\\PRASHANT\\Untitled Folder 3\\resume\\pu.pdf\""
   ]
  },
  {
   "cell_type": "code",
   "execution_count": 4,
   "id": "ef642eab",
   "metadata": {},
   "outputs": [],
   "source": [
    "pdf = open(file, 'rb') #resume input"
   ]
  },
  {
   "cell_type": "code",
   "execution_count": 5,
   "id": "bae00803",
   "metadata": {},
   "outputs": [],
   "source": [
    "pdfReader = PyPDF2.PdfReader(pdf)"
   ]
  },
  {
   "cell_type": "markdown",
   "id": "4b7274d6",
   "metadata": {},
   "source": [
    "## Metadata:"
   ]
  },
  {
   "cell_type": "code",
   "execution_count": 6,
   "id": "aa8ddadb",
   "metadata": {},
   "outputs": [
    {
     "data": {
      "text/plain": [
       "{'/Author': 'Prateek Kala',\n",
       " '/Creator': 'Microsoft® Word 2016',\n",
       " '/CreationDate': \"D:20221205042833+00'00'\",\n",
       " '/Producer': 'www.ilovepdf.com',\n",
       " '/ModDate': 'D:20221205042833Z'}"
      ]
     },
     "execution_count": 6,
     "metadata": {},
     "output_type": "execute_result"
    }
   ],
   "source": [
    "x2=pdfReader.metadata #About PDF\n",
    "x2"
   ]
  },
  {
   "cell_type": "code",
   "execution_count": null,
   "id": "6d5dced2",
   "metadata": {},
   "outputs": [],
   "source": []
  },
  {
   "cell_type": "markdown",
   "id": "404d3e24",
   "metadata": {},
   "source": [
    "## Number of Pages in the Resume:"
   ]
  },
  {
   "cell_type": "code",
   "execution_count": 7,
   "id": "f5ce2a8b",
   "metadata": {},
   "outputs": [
    {
     "name": "stdout",
     "output_type": "stream",
     "text": [
      "Number of pages in the document: 1\n"
     ]
    }
   ],
   "source": [
    "x= (len(pdfReader.pages))\n",
    "print(\"Number of pages in the document:\",x)"
   ]
  },
  {
   "cell_type": "code",
   "execution_count": 8,
   "id": "3dba3b46",
   "metadata": {},
   "outputs": [],
   "source": [
    "text = \" \""
   ]
  },
  {
   "cell_type": "code",
   "execution_count": 9,
   "id": "2f21af86",
   "metadata": {},
   "outputs": [],
   "source": [
    "for page_number in range(x):\n",
    "    pdfReader = PyPDF2.PdfReader(pdf)\n",
    "    if pdfReader.is_encrypted:\n",
    "        pdfReader.decrypt('')\n",
    "    page = pdfReader.pages[page_number]\n",
    "    text += page.extract_text()"
   ]
  },
  {
   "cell_type": "code",
   "execution_count": 10,
   "id": "74162c7d",
   "metadata": {},
   "outputs": [
    {
     "data": {
      "text/plain": [
       "' CAREER  OBJECTIVE  \\nTraining  and Certifications  \\nJobs  and Responsibilities  \\nCOMPUTER  SKILLS  \\nACADEMIC  BACKGROUND  PRASHANT  UPADHYAY  \\nPhone: +91  8954653528  \\nEmail:  prashantupadhyay0@gmail.com  \\nPrashant  is a career -oriented  professional  with decent  communication  and interpersonal  skills,  who knows  \\nhow to make  sense  of data and translate  it into actionable  insights.  He is familiar  with gathering,  cleaning,  \\nand organizing data for the use of technical and non -technical personnel. He is seeking a challenging  \\nposition in a growth -oriented organization w here he can effectively contribute through his skills and  \\nabilities.  \\n \\nCertifications:  \\nInstitution:  Google  May,  2022  \\nCertificate:  Google  Data  analytics  professional  certification  \\n \\nInstitution:  LinkedIn  Jul, 2021  \\nCertificate:  Tableau  Essential  Training  (2020.1)  \\nZummit Infolabs  Nov 2022  – Present  \\nJr. Data  Scientist  \\n\\uf0b7 Writing  code  in Python , Tensorflow /Keras  projects  related  to CNN , GAN , and RNN  for the Hospitality  \\nor Financial  domain  \\n\\uf0b7 Used Jupyter /Collab  notebooks  for Machine  Learning  / Deep  Learning  problems  \\nYoshops.com  Jun 2022  – Aug 2022  \\nData  Science  Intern  \\n\\uf0b7 Undertook  to process,  structured  and unstructured  data and analyze  large  amounts  of information  to \\ndiscover  trends  and patterns  \\n\\uf0b7 Combined  models  through  ensemble  modeling  Present  information  using  data visualization  techniques  \\nwith the help of Plotly , Seaborn,  and Matplotlib  \\n\\uf0b7 Web  Scraping  using  Python,  EDA on real-time data,  Implementing  the \"GPT2  model \" for auto- \\ngenerating  text, Handling  Large Real -world  Datasets,  and Creating  .exe files  from Python scripting  \\n \\nVariedaperture.com  Dec 2018  - Nov 2020  \\nWordPress  Developer/Blogger/  Owner  \\n\\uf0b7 Designed and manipulated the website front -end with the help of front -end languages such as HTML,  \\nJavaScript,  and CSS \\n \\nCISPL  Global,  Gurgaon  Mar 2017  - Aug 2018  \\nJr. US IT Recruiter  \\n\\uf0b7 Prepared  weekly  reports  on recruiting  activities,  candidate  placements  and job openings  \\n\\uf0b7 Handled  the tasks  of screening,  selecting,  and submitting  candidates  to job orders  within  a defined  \\ndiscipline  \\n \\n \\nSoftware: Tableau Public, Jupyter Notebook, MySQL , Microsoft Excel, Microsoft word, Kaggle  \\nLanguages: Python , C, C++,  R programming,  SQL \\n \\n \\nB. TECH (Computer Science Engineering with specialization in Mainframe technologies),  \\nUniversity  of Petroleum  and Energy  Studies,  Dehradun  JULY  2017  '"
      ]
     },
     "execution_count": 10,
     "metadata": {},
     "output_type": "execute_result"
    }
   ],
   "source": [
    "text"
   ]
  },
  {
   "cell_type": "code",
   "execution_count": 11,
   "id": "948eef5d",
   "metadata": {},
   "outputs": [],
   "source": [
    "pdf.close() # closing the pdf file object"
   ]
  },
  {
   "cell_type": "markdown",
   "id": "c869f0ea",
   "metadata": {},
   "source": [
    "## Data Pre-Processing:"
   ]
  },
  {
   "cell_type": "code",
   "execution_count": 12,
   "id": "29856dd8",
   "metadata": {},
   "outputs": [],
   "source": [
    "text = re.sub('http\\S+\\s*', ' ', text)  # remove URLs\n",
    "text = re.sub('RT|cc', ' ', text)  # remove RT and cc\n",
    "text = re.sub('#\\S+', '', text)  # remove hashtags\n",
    "text = re.sub('@\\S+', '  ', text)  # remove mentions\n",
    "text = re.sub('[%s]' % re.escape(\"\"\"!\"#$%&'()*+,-./:;<=>?@[\\]^_`{|}~\"\"\"), ' ', text)  # remove punctuation\n",
    "text = re.sub(r'[0-9]+', '', text)\n",
    "text = re.sub(r'[^\\x00-\\x7f]',r' ', text) \n",
    "text = re.sub('\\s+', ' ', text)  # remove extra whitespace"
   ]
  },
  {
   "cell_type": "code",
   "execution_count": 13,
   "id": "bf186047",
   "metadata": {},
   "outputs": [],
   "source": [
    "# Convert all strings to lowercase\n",
    "text = text.lower()"
   ]
  },
  {
   "cell_type": "code",
   "execution_count": 14,
   "id": "09789d5b",
   "metadata": {},
   "outputs": [],
   "source": [
    "text2 = text"
   ]
  },
  {
   "cell_type": "code",
   "execution_count": 15,
   "id": "a607b448",
   "metadata": {},
   "outputs": [],
   "source": [
    "my_stopwords = ['example_stopword1', 'example_stopword2']\n",
    "\n",
    "stop_words = set(stopwords.words('english'))\n",
    "stop_words.update(my_stopwords)"
   ]
  },
  {
   "cell_type": "code",
   "execution_count": 16,
   "id": "2135792a",
   "metadata": {},
   "outputs": [],
   "source": [
    "stop_words = set(stopwords.words('english'))"
   ]
  },
  {
   "cell_type": "code",
   "execution_count": 17,
   "id": "fa0364d8",
   "metadata": {},
   "outputs": [],
   "source": [
    "#cachedStopWords = stopwords.words(\"english\")\n",
    "pattern = re.compile(r'\\b(' + r'|'.join(stop_words) + r')\\b\\s*')\n",
    "text = pattern.sub('', text)"
   ]
  },
  {
   "cell_type": "code",
   "execution_count": 58,
   "id": "3cc05e0d",
   "metadata": {},
   "outputs": [
    {
     "data": {
      "text/plain": [
       "' career objective training and certifications jobs and responsibilities computer skills academic background prashant upadhyay phone email prashantupadhyay prashant is a career oriented professional with decent communication and interpersonal skills who knows how to make sense of data and translate it into actionable insights he is familiar with gathering cleaning and organizing data for the use of technical and non technical personnel he is seeking a challenging position in a growth oriented organization w here he can effectively contribute through his skills and abilities certifications institution google may certificate google data analytics professional certification institution linkedin jul certificate tableau essential training zummit infolabs nov present jr data scientist writing code in python tensorflow keras projects related to cnn gan and rnn for the hospitality or financial domain used jupyter collab notebooks for machine learning deep learning problems yoshops com jun aug data science intern undertook to process structured and unstructured data and analyze large amounts of information to discover trends and patterns combined models through ensemble modeling present information using data visualization techniques with the help of plotly seaborn and matplotlib web scraping using python eda on real time data implementing the gpt model for auto generating text handling large real world datasets and creating exe files from python scripting variedaperture com dec nov wordpress developer blogger owner designed and manipulated the website front end with the help of front end languages such as html javascript and css cispl global gurgaon mar aug jr us it recruiter prepared weekly reports on recruiting activities candidate placements and job openings handled the tasks of screening selecting and submitting candidates to job orders within a defined discipline software tableau public jupyter notebook mysql microsoft excel microsoft word kaggle languages python c c r programming sql b tech computer science engineering with specialization in mainframe technologies university of petroleum and energy studies dehradun july '"
      ]
     },
     "execution_count": 58,
     "metadata": {},
     "output_type": "execute_result"
    }
   ],
   "source": [
    "text"
   ]
  },
  {
   "cell_type": "markdown",
   "id": "dd0bc723",
   "metadata": {},
   "source": [
    "## Extracted Text:"
   ]
  },
  {
   "cell_type": "code",
   "execution_count": 19,
   "id": "cdd7b7dc",
   "metadata": {},
   "outputs": [
    {
     "data": {
      "text/plain": [
       "' career objective training certifications jobs responsibilities computer skills academic background prashant upadhyay phone email prashantupadhyay prashant career oriented professional decent communication interpersonal skills knows make sense data translate actionable insights familiar gathering cleaning organizing data use technical non technical personnel seeking challenging position growth oriented organization w effectively contribute skills abilities certifications institution google may certificate google data analytics professional certification institution linkedin jul certificate tableau essential training zummit infolabs nov present jr data scientist writing code python tensorflow keras projects related cnn gan rnn hospitality financial domain used jupyter collab notebooks machine learning deep learning problems yoshops com jun aug data science intern undertook process structured unstructured data analyze large amounts information discover trends patterns combined models ensemble modeling present information using data visualization techniques help plotly seaborn matplotlib web scraping using python eda real time data implementing gpt model auto generating text handling large real world datasets creating exe files python scripting variedaperture com dec nov wordpress developer blogger owner designed manipulated website front end help front end languages html javascript css cispl global gurgaon mar aug jr us recruiter prepared weekly reports recruiting activities candidate placements job openings handled tasks screening selecting submitting candidates job orders within defined discipline software tableau public jupyter notebook mysql microsoft excel microsoft word kaggle languages python c c r programming sql b tech computer science engineering specialization mainframe technologies university petroleum energy studies dehradun july '"
      ]
     },
     "execution_count": 19,
     "metadata": {},
     "output_type": "execute_result"
    }
   ],
   "source": [
    "text"
   ]
  },
  {
   "cell_type": "code",
   "execution_count": 20,
   "id": "7ac28196",
   "metadata": {},
   "outputs": [],
   "source": [
    "#import string"
   ]
  },
  {
   "cell_type": "code",
   "execution_count": null,
   "id": "65c320ff",
   "metadata": {},
   "outputs": [],
   "source": []
  },
  {
   "cell_type": "code",
   "execution_count": 21,
   "id": "c9d1a21d",
   "metadata": {},
   "outputs": [],
   "source": [
    "# Load the pre-trained BERT tokenizer\n",
    "tokenizer = BertTokenizer.from_pretrained('bert-base-uncased')"
   ]
  },
  {
   "cell_type": "code",
   "execution_count": 22,
   "id": "6a27e150",
   "metadata": {},
   "outputs": [
    {
     "name": "stderr",
     "output_type": "stream",
     "text": [
      "Some weights of the model checkpoint at bert-base-uncased were not used when initializing BertForSequenceClassification: ['cls.predictions.transform.dense.weight', 'cls.predictions.transform.dense.bias', 'cls.predictions.transform.LayerNorm.weight', 'cls.seq_relationship.weight', 'cls.seq_relationship.bias', 'cls.predictions.bias', 'cls.predictions.transform.LayerNorm.bias', 'cls.predictions.decoder.weight']\n",
      "- This IS expected if you are initializing BertForSequenceClassification from the checkpoint of a model trained on another task or with another architecture (e.g. initializing a BertForSequenceClassification model from a BertForPreTraining model).\n",
      "- This IS NOT expected if you are initializing BertForSequenceClassification from the checkpoint of a model that you expect to be exactly identical (initializing a BertForSequenceClassification model from a BertForSequenceClassification model).\n",
      "Some weights of BertForSequenceClassification were not initialized from the model checkpoint at bert-base-uncased and are newly initialized: ['classifier.weight', 'classifier.bias']\n",
      "You should probably TRAIN this model on a down-stream task to be able to use it for predictions and inference.\n"
     ]
    }
   ],
   "source": [
    "# Load the pre-trained BERT model\n",
    "model = BertForSequenceClassification.from_pretrained('bert-base-uncased')"
   ]
  },
  {
   "cell_type": "code",
   "execution_count": 23,
   "id": "4b7bc785",
   "metadata": {},
   "outputs": [],
   "source": [
    "# import matplotlib.pyplot as plt\n",
    "\n",
    "def plot_score(score, filename=None):\n",
    "    # Round the score to the nearest integer\n",
    "    rounded_score = round(score)\n",
    "    \n",
    "    # Set up the figure\n",
    "    fig, ax = plt.subplots(figsize=(4,4))\n",
    "    ax.set_aspect('equal')\n",
    "    \n",
    "    # Add a circle to represent the score\n",
    "    circle = plt.Circle((0.5, 0.5), 0.4, color='blue', fill=False, lw=10)\n",
    "    ax.add_artist(circle)\n",
    "    \n",
    "    # Add text to display the score\n",
    "    ax.text(0.5, 0.5, str(rounded_score), ha='center', va='center', fontsize=50)\n",
    "    \n",
    "    # Remove axes and set title\n",
    "    ax.axis('off')\n",
    "    ax.set_title('Resume Score')\n",
    "    \n",
    "    # Save the plot as a PNG file if filename is specified\n",
    "    if filename:\n",
    "        fig.savefig(filename, dpi=300, bbox_inches='tight')\n",
    "    \n",
    "    # Show the plot\n",
    "    plt.show()"
   ]
  },
  {
   "cell_type": "markdown",
   "id": "49380bb0",
   "metadata": {},
   "source": [
    "## Job Title Detection:"
   ]
  },
  {
   "cell_type": "code",
   "execution_count": 24,
   "id": "659ef127",
   "metadata": {},
   "outputs": [],
   "source": [
    "# Function to encode a resume text into a BERT-compatible format\n",
    "def encode_resume(resume_text):\n",
    "    input_ids = torch.tensor(tokenizer.encode(resume_text, add_special_tokens=True)).unsqueeze(0)\n",
    "    with torch.no_grad():\n",
    "        outputs = model(input_ids)\n",
    "    logits = outputs[0]\n",
    "    return logits"
   ]
  },
  {
   "cell_type": "code",
   "execution_count": 59,
   "id": "dcab5156",
   "metadata": {},
   "outputs": [],
   "source": [
    "# Define the job titles and their corresponding labels\n",
    "job_titles = ['Data Scientist', 'Advocate' ,'Software Engineer','Dotnet Developer' ,'Marketing Manager' , 'Java Developer','Operations Manager', 'DevOps Engineer', 'Python Developer', 'Blockchain', 'SAP Developer', 'ETL Developer']\n",
    "labels = [1, 2, 3, 4, 5, 6, 7, 8, 9, 10]"
   ]
  },
  {
   "cell_type": "code",
   "execution_count": 60,
   "id": "367c7972",
   "metadata": {},
   "outputs": [],
   "source": [
    "# Function to classify a resume based on its job title\n",
    "def classify_resume(resume_text):\n",
    "    logits = encode_resume(resume_text)\n",
    "    probs = torch.softmax(logits, dim=1)\n",
    "    top_prob, top_label = probs.max(1)\n",
    "    predicted_label = job_titles[top_label.item()]\n",
    "    return predicted_label"
   ]
  },
  {
   "cell_type": "code",
   "execution_count": 61,
   "id": "63e296b4",
   "metadata": {},
   "outputs": [
    {
     "name": "stdout",
     "output_type": "stream",
     "text": [
      "Predicted job title: Data Scientist\n"
     ]
    }
   ],
   "source": [
    "# Example usage\n",
    "predicted_label = classify_resume(text)\n",
    "print(\"Predicted job title:\", predicted_label)"
   ]
  },
  {
   "cell_type": "code",
   "execution_count": null,
   "id": "5d044bce",
   "metadata": {},
   "outputs": [],
   "source": []
  },
  {
   "cell_type": "markdown",
   "id": "ba12de95",
   "metadata": {},
   "source": [
    "## Word Frequency:"
   ]
  },
  {
   "cell_type": "code",
   "execution_count": 28,
   "id": "ddbeb550",
   "metadata": {},
   "outputs": [],
   "source": [
    "# Find frequency of each word in a string in Python\n",
    "# using dictionary.\n",
    "def count(elements):\n",
    "    # check if each word has '.' at its last. If so then ignore '.'\n",
    "    if elements[-1] == '.':\n",
    "        elements = elements[0:len(elements) - 1]\n",
    "\n",
    "    # if there exists a key as \"elements\" then simply\n",
    "    # increase its value.\n",
    "    if elements in dictionary:\n",
    "        dictionary[elements] += 1\n",
    "\n",
    "    # if the dictionary does not have the key as \"elements\"\n",
    "    # then create a key \"elements\" and assign its value to 1.\n",
    "    else:\n",
    "        dictionary.update({elements: 1})"
   ]
  },
  {
   "cell_type": "code",
   "execution_count": 29,
   "id": "4c83852d",
   "metadata": {},
   "outputs": [],
   "source": [
    "dictionary = {}"
   ]
  },
  {
   "cell_type": "code",
   "execution_count": 30,
   "id": "0c93619d",
   "metadata": {},
   "outputs": [],
   "source": [
    "word_count2 = Counter(text2.split())"
   ]
  },
  {
   "cell_type": "code",
   "execution_count": 31,
   "id": "c65c9dda",
   "metadata": {},
   "outputs": [
    {
     "data": {
      "image/png": "[encoded data removed]",
      "text/plain": [
       "<Figure size 2000x1000 with 1 Axes>"
      ]
     },
     "metadata": {},
     "output_type": "display_data"
    },
    {
     "data": {
      "text/plain": [
       "<Figure size 640x480 with 0 Axes>"
      ]
     },
     "metadata": {},
     "output_type": "display_data"
    }
   ],
   "source": [
    "%matplotlib inline\n",
    "plt.figure(figsize=(20,10)) \n",
    "top_words2 = word_count2.most_common(20)\n",
    "\n",
    "# Create a bar chart of the top words\n",
    "plt.barh([word[0] for word in top_words2], [word[1] for word in top_words2])\n",
    "plt.xlabel('Word')\n",
    "plt.ylabel('Frequency')\n",
    "plt.title('Frequently used words (with stop words)')\n",
    "plt.show()\n",
    "\n",
    "# Save the chart as a PNG image\n",
    "plt.savefig('top_words1.png')"
   ]
  },
  {
   "cell_type": "code",
   "execution_count": 32,
   "id": "52f3dbaf",
   "metadata": {},
   "outputs": [],
   "source": [
    "word_count2 = Counter(text.split())"
   ]
  },
  {
   "cell_type": "code",
   "execution_count": 33,
   "id": "ca2de135",
   "metadata": {},
   "outputs": [
    {
     "data": {
      "image/png": "[encoded data removed]",
      "text/plain": [
       "<Figure size 2000x1000 with 1 Axes>"
      ]
     },
     "metadata": {},
     "output_type": "display_data"
    },
    {
     "data": {
      "text/plain": [
       "<Figure size 640x480 with 0 Axes>"
      ]
     },
     "metadata": {},
     "output_type": "display_data"
    }
   ],
   "source": [
    "%matplotlib inline\n",
    "\n",
    "top_words = word_count2.most_common(20)\n",
    "\n",
    "plt.figure(figsize=(20,10))\n",
    "\n",
    "# Create a bar chart of the top words\n",
    "plt.barh([word[0] for word in top_words], [word[1] for word in top_words])\n",
    "plt.xlabel('Word')\n",
    "plt.ylabel('Frequency')\n",
    "plt.title('Most frequently used words in resume without Stopwords')\n",
    "plt.show()\n",
    "\n",
    "# Save the chart as a PNG image\n",
    "plt.savefig('top_words2.png')"
   ]
  },
  {
   "cell_type": "code",
   "execution_count": null,
   "id": "04a33709",
   "metadata": {},
   "outputs": [],
   "source": []
  },
  {
   "cell_type": "markdown",
   "id": "6f5c7319",
   "metadata": {},
   "source": [
    "## Level Classifier using BERT:"
   ]
  },
  {
   "cell_type": "code",
   "execution_count": 34,
   "id": "7c9f4cc7",
   "metadata": {},
   "outputs": [
    {
     "name": "stderr",
     "output_type": "stream",
     "text": [
      "Some weights of the model checkpoint at bert-base-uncased were not used when initializing BertForSequenceClassification: ['cls.predictions.transform.dense.weight', 'cls.predictions.transform.dense.bias', 'cls.predictions.transform.LayerNorm.weight', 'cls.seq_relationship.weight', 'cls.seq_relationship.bias', 'cls.predictions.bias', 'cls.predictions.transform.LayerNorm.bias', 'cls.predictions.decoder.weight']\n",
      "- This IS expected if you are initializing BertForSequenceClassification from the checkpoint of a model trained on another task or with another architecture (e.g. initializing a BertForSequenceClassification model from a BertForPreTraining model).\n",
      "- This IS NOT expected if you are initializing BertForSequenceClassification from the checkpoint of a model that you expect to be exactly identical (initializing a BertForSequenceClassification model from a BertForSequenceClassification model).\n",
      "Some weights of BertForSequenceClassification were not initialized from the model checkpoint at bert-base-uncased and are newly initialized: ['classifier.weight', 'classifier.bias']\n",
      "You should probably TRAIN this model on a down-stream task to be able to use it for predictions and inference.\n"
     ]
    },
    {
     "name": "stdout",
     "output_type": "stream",
     "text": [
      "Entry-level\n"
     ]
    }
   ],
   "source": [
    "# Load the pre-trained tokenizer and model\n",
    "tokenizer = BertTokenizer.from_pretrained('bert-base-uncased')\n",
    "model = BertForSequenceClassification.from_pretrained('bert-base-uncased', num_labels=3)\n",
    "\n",
    "# Define the categories\n",
    "categories = {\n",
    "    'Entry-level': 0,\n",
    "    'Mid-level': 1,\n",
    "    'Senior-level': 2\n",
    "}\n",
    "\n",
    "# Define a function to classify a resume\n",
    "def classify_resume(resume):\n",
    "    # Tokenize the resume\n",
    "    input_ids = tokenizer.encode(resume, add_special_tokens=True, truncation=True, max_length=1024)\n",
    "    input_ids = torch.tensor(input_ids).unsqueeze(0)  # Add batch dimension\n",
    "\n",
    "    # Run the resume through the model\n",
    "    outputs = model(input_ids)\n",
    "    logits = outputs.logits\n",
    "    prediction = logits.argmax(dim=-1).item()\n",
    "\n",
    "    # Map the prediction to the corresponding category\n",
    "    for category, label in categories.items():\n",
    "        if label == prediction:\n",
    "            return category\n",
    "    return None\n",
    "\n",
    "# Test the function with a sample resume\n",
    "resume = text\n",
    "category = classify_resume(resume)\n",
    "print(category)"
   ]
  },
  {
   "cell_type": "code",
   "execution_count": null,
   "id": "65d78f91",
   "metadata": {},
   "outputs": [],
   "source": []
  },
  {
   "cell_type": "code",
   "execution_count": null,
   "id": "ae91ba12",
   "metadata": {},
   "outputs": [],
   "source": []
  },
  {
   "cell_type": "code",
   "execution_count": 35,
   "id": "a0e723f7",
   "metadata": {},
   "outputs": [],
   "source": [
    "# pip install sentence-transformers"
   ]
  },
  {
   "cell_type": "code",
   "execution_count": 36,
   "id": "04e56261",
   "metadata": {},
   "outputs": [],
   "source": [
    "# pip install bert-extractive-summarizer"
   ]
  },
  {
   "cell_type": "markdown",
   "id": "410f0cdb",
   "metadata": {},
   "source": [
    "## Summariser"
   ]
  },
  {
   "cell_type": "code",
   "execution_count": 37,
   "id": "c6f789a3",
   "metadata": {},
   "outputs": [
    {
     "name": "stderr",
     "output_type": "stream",
     "text": [
      "No model was supplied, defaulted to sshleifer/distilbart-cnn-12-6 and revision a4f8f3e (https://huggingface.co/sshleifer/distilbart-cnn-12-6).\n",
      "Using a pipeline without specifying a model name and revision in production is not recommended.\n"
     ]
    },
    {
     "name": "stdout",
     "output_type": "stream",
     "text": [
      " prashant upadhyay is a career oriented professional with decent communication and interpersonal skills . He is seeking a challenging position in a growth oriented organization . He can effectively contribute through his skills and abilities .\n"
     ]
    }
   ],
   "source": [
    "from transformers import pipeline\n",
    "\n",
    "# Load the BERT summarization pipeline\n",
    "summarizer = pipeline(\"summarization\")\n",
    "\n",
    "# Define the text to summarize\n",
    "text = text2\n",
    "\n",
    "# Set the maximum length of the summary in words\n",
    "max_length = 200\n",
    "\n",
    "# Generate the summary using the BERT model\n",
    "summary = summarizer(text, max_length=max_length, min_length=10)\n",
    "\n",
    "# Print the summary\n",
    "print(summary[0]['summary_text'])\n",
    "x1=summary[0]['summary_text']"
   ]
  },
  {
   "cell_type": "code",
   "execution_count": 38,
   "id": "8a07b23d",
   "metadata": {},
   "outputs": [
    {
     "data": {
      "text/plain": [
       "' prashant upadhyay is a career oriented professional with decent communication and interpersonal skills . He is seeking a challenging position in a growth oriented organization . He can effectively contribute through his skills and abilities .'"
      ]
     },
     "execution_count": 38,
     "metadata": {},
     "output_type": "execute_result"
    }
   ],
   "source": [
    "x1"
   ]
  },
  {
   "cell_type": "code",
   "execution_count": null,
   "id": "6a126731",
   "metadata": {},
   "outputs": [],
   "source": []
  },
  {
   "cell_type": "markdown",
   "id": "079de212",
   "metadata": {},
   "source": [
    "## Resume Strength Score:"
   ]
  },
  {
   "cell_type": "code",
   "execution_count": 39,
   "id": "76cfdade",
   "metadata": {},
   "outputs": [
    {
     "name": "stderr",
     "output_type": "stream",
     "text": [
      "Some weights of the model checkpoint at bert-base-uncased were not used when initializing BertForSequenceClassification: ['cls.predictions.transform.dense.weight', 'cls.predictions.transform.dense.bias', 'cls.predictions.transform.LayerNorm.weight', 'cls.seq_relationship.weight', 'cls.seq_relationship.bias', 'cls.predictions.bias', 'cls.predictions.transform.LayerNorm.bias', 'cls.predictions.decoder.weight']\n",
      "- This IS expected if you are initializing BertForSequenceClassification from the checkpoint of a model trained on another task or with another architecture (e.g. initializing a BertForSequenceClassification model from a BertForPreTraining model).\n",
      "- This IS NOT expected if you are initializing BertForSequenceClassification from the checkpoint of a model that you expect to be exactly identical (initializing a BertForSequenceClassification model from a BertForSequenceClassification model).\n",
      "Some weights of BertForSequenceClassification were not initialized from the model checkpoint at bert-base-uncased and are newly initialized: ['classifier.weight', 'classifier.bias']\n",
      "You should probably TRAIN this model on a down-stream task to be able to use it for predictions and inference.\n",
      "C:\\Users\\PRASHANT\\AppData\\Local\\Temp\\ipykernel_6792\\59751945.py:10: UserWarning: To copy construct from a tensor, it is recommended to use sourceTensor.clone().detach() or sourceTensor.clone().detach().requires_grad_(True), rather than torch.tensor(sourceTensor).\n",
      "  input_ids = torch.tensor(input_ids)\n"
     ]
    },
    {
     "name": "stdout",
     "output_type": "stream",
     "text": [
      "Based on your resume, we give you a score of 9-10.\n",
      "Your resume is excellent! Keep up the good work.\n"
     ]
    }
   ],
   "source": [
    "# Load pre-trained BERT model and tokenizer\n",
    "tokenizer = BertTokenizer.from_pretrained('bert-base-uncased')\n",
    "model = BertForSequenceClassification.from_pretrained('bert-base-uncased', num_labels=4)\n",
    "\n",
    "# Define labels and scores for classification\n",
    "labels = ['0-3', '4-6', '7-8', '9-10']\n",
    "\n",
    "# Tokenize resume text and prepare it for input to BERT model\n",
    "input_ids = tokenizer.encode(text, add_special_tokens=True, max_length=1024, truncation=True, padding=True, return_tensors='pt')\n",
    "input_ids = torch.tensor(input_ids)\n",
    "\n",
    "# Predict score for input resume text\n",
    "outputs = model(input_ids)[0]\n",
    "_, predicted_score = torch.max(outputs, 1)\n",
    "predicted_score = predicted_score.item()\n",
    "\n",
    "# Print score based on predicted label\n",
    "print(f\"Based on your resume, we give you a score of {labels[predicted_score]}.\")\n",
    "if predicted_score == 0:\n",
    "    print(\"Your resume needs significant improvement. Consider seeking professional help.\")\n",
    "elif predicted_score == 1:\n",
    "    print(\"Your resume could be stronger. Consider highlighting your achievements and quantifiable results.\")\n",
    "elif predicted_score == 2:\n",
    "    print(\"Your resume is good, but there's still room for improvement. Consider customizing it for each job you apply for.\")\n",
    "else:\n",
    "    print(\"Your resume is excellent! Keep up the good work.\")"
   ]
  },
  {
   "cell_type": "code",
   "execution_count": null,
   "id": "571ecb75",
   "metadata": {},
   "outputs": [],
   "source": []
  },
  {
   "cell_type": "code",
   "execution_count": 40,
   "id": "b1b5e72b",
   "metadata": {},
   "outputs": [
    {
     "name": "stderr",
     "output_type": "stream",
     "text": [
      "Some weights of the model checkpoint at bert-base-uncased were not used when initializing BertForSequenceClassification: ['cls.predictions.transform.dense.weight', 'cls.predictions.transform.dense.bias', 'cls.predictions.transform.LayerNorm.weight', 'cls.seq_relationship.weight', 'cls.seq_relationship.bias', 'cls.predictions.bias', 'cls.predictions.transform.LayerNorm.bias', 'cls.predictions.decoder.weight']\n",
      "- This IS expected if you are initializing BertForSequenceClassification from the checkpoint of a model trained on another task or with another architecture (e.g. initializing a BertForSequenceClassification model from a BertForPreTraining model).\n",
      "- This IS NOT expected if you are initializing BertForSequenceClassification from the checkpoint of a model that you expect to be exactly identical (initializing a BertForSequenceClassification model from a BertForSequenceClassification model).\n",
      "Some weights of BertForSequenceClassification were not initialized from the model checkpoint at bert-base-uncased and are newly initialized: ['classifier.weight', 'classifier.bias']\n",
      "You should probably TRAIN this model on a down-stream task to be able to use it for predictions and inference.\n",
      "C:\\Users\\PRASHANT\\AppData\\Local\\Temp\\ipykernel_6792\\241581347.py:10: UserWarning: To copy construct from a tensor, it is recommended to use sourceTensor.clone().detach() or sourceTensor.clone().detach().requires_grad_(True), rather than torch.tensor(sourceTensor).\n",
      "  input_ids = torch.tensor(input_ids)\n"
     ]
    },
    {
     "name": "stdout",
     "output_type": "stream",
     "text": [
      "Based on your resume, we give you a score of 4.\n",
      "Your resume is excellent! Keep up the good work.\n"
     ]
    }
   ],
   "source": [
    "# Load pre-trained BERT model and tokenizer\n",
    "tokenizer = BertTokenizer.from_pretrained('bert-base-uncased')\n",
    "model = BertForSequenceClassification.from_pretrained('bert-base-uncased', num_labels=10)\n",
    "\n",
    "# Define labels and scores for classification\n",
    "labels = ['1','2','3', '4','5','6', '7','8', '9','10']\n",
    "\n",
    "# Tokenize resume text and prepare it for input to BERT model\n",
    "input_ids = tokenizer.encode(text, add_special_tokens=True, max_length=1024, truncation=True, padding=True, return_tensors='pt')\n",
    "input_ids = torch.tensor(input_ids)\n",
    "\n",
    "# Predict score for input resume text\n",
    "outputs = model(input_ids)[0]\n",
    "_, predicted_score = torch.max(outputs, 1)\n",
    "predicted_score = predicted_score.item()\n",
    "\n",
    "# Print score based on predicted label\n",
    "print(f\"Based on your resume, we give you a score of {labels[predicted_score]}.\")\n",
    "if predicted_score == 0:\n",
    "    print(\"Your resume needs significant improvement. Consider seeking professional help.\")\n",
    "elif predicted_score == 1:\n",
    "    print(\"Your resume could be stronger. Consider highlighting your achievements and quantifiable results.\")\n",
    "elif predicted_score == 2:\n",
    "    print(\"Your resume is good, but there's still room for improvement. Consider customizing it for each job you apply for.\")\n",
    "else:\n",
    "    print(\"Your resume is excellent! Keep up the good work.\")\n",
    "    \n",
    "\n",
    "x3=    labels[predicted_score]"
   ]
  },
  {
   "cell_type": "code",
   "execution_count": 41,
   "id": "ca73e116",
   "metadata": {},
   "outputs": [],
   "source": [
    "x3 =int(x3)"
   ]
  },
  {
   "cell_type": "code",
   "execution_count": 42,
   "id": "bb3089c4",
   "metadata": {},
   "outputs": [
    {
     "data": {
      "image/png": "[encoded data removed]",
      "text/plain": [
       "<Figure size 400x400 with 1 Axes>"
      ]
     },
     "metadata": {},
     "output_type": "display_data"
    }
   ],
   "source": [
    "plot_score(x3, '1.png')\n"
   ]
  },
  {
   "cell_type": "code",
   "execution_count": 43,
   "id": "2809ed97",
   "metadata": {},
   "outputs": [],
   "source": [
    "x3 = int(x3)"
   ]
  },
  {
   "cell_type": "code",
   "execution_count": 44,
   "id": "161be22a",
   "metadata": {},
   "outputs": [
    {
     "name": "stderr",
     "output_type": "stream",
     "text": [
      "Some weights of the model checkpoint at bert-base-uncased were not used when initializing BertForSequenceClassification: ['cls.predictions.transform.dense.weight', 'cls.predictions.transform.dense.bias', 'cls.predictions.transform.LayerNorm.weight', 'cls.seq_relationship.weight', 'cls.seq_relationship.bias', 'cls.predictions.bias', 'cls.predictions.transform.LayerNorm.bias', 'cls.predictions.decoder.weight']\n",
      "- This IS expected if you are initializing BertForSequenceClassification from the checkpoint of a model trained on another task or with another architecture (e.g. initializing a BertForSequenceClassification model from a BertForPreTraining model).\n",
      "- This IS NOT expected if you are initializing BertForSequenceClassification from the checkpoint of a model that you expect to be exactly identical (initializing a BertForSequenceClassification model from a BertForSequenceClassification model).\n",
      "Some weights of BertForSequenceClassification were not initialized from the model checkpoint at bert-base-uncased and are newly initialized: ['classifier.weight', 'classifier.bias']\n",
      "You should probably TRAIN this model on a down-stream task to be able to use it for predictions and inference.\n",
      "C:\\Users\\PRASHANT\\AppData\\Local\\Temp\\ipykernel_6792\\1891153725.py:10: UserWarning: To copy construct from a tensor, it is recommended to use sourceTensor.clone().detach() or sourceTensor.clone().detach().requires_grad_(True), rather than torch.tensor(sourceTensor).\n",
      "  input_ids = torch.tensor(input_ids)\n"
     ]
    },
    {
     "name": "stdout",
     "output_type": "stream",
     "text": [
      "Based on your resume, we give you a score of 4-6.\n",
      "Your resume could be stronger. Consider highlighting your achievements and quantifiable results.\n"
     ]
    }
   ],
   "source": [
    "# # Load pre-trained BERT model and tokenizer\n",
    "# tokenizer = BertTokenizer.from_pretrained('bert-base-uncased')\n",
    "# model = BertForSequenceClassification.from_pretrained('bert-base-uncased', num_labels=4)\n",
    "\n",
    "# # Define labels and scores for classification\n",
    "# labels = ['0-3', '4-6', '7-8', '9-10']\n",
    "\n",
    "# # Tokenize resume text and prepare it for input to BERT model\n",
    "# input_ids = tokenizer.encode(text, add_special_tokens=True, max_length=1024, truncation=True, padding=True, return_tensors='pt')\n",
    "# input_ids = torch.tensor(input_ids)\n",
    "\n",
    "# # Predict score for input resume text\n",
    "# outputs = model(input_ids)[0]\n",
    "# _, predicted_score = torch.max(outputs, 1)\n",
    "# predicted_score = predicted_score.item()\n",
    "\n",
    "# # Print score based on predicted label and store the output in a single variable\n",
    "# output_message = f\"Based on your resume, we give you a score of {labels[predicted_score]}.\\n\"\n",
    "# output_message += \"Your resume needs significant improvement. Consider seeking professional help.\" if predicted_score == 0 else \"\"\n",
    "# output_message += \"Your resume could be stronger. Consider highlighting your achievements and quantifiable results.\" if predicted_score == 1 else \"\"\n",
    "# output_message += \"Your resume is good, but there's still room for improvement. Consider customizing it for each job you apply for.\" if predicted_score == 2 else \"\"\n",
    "# output_message += \"Your resume is excellent! Keep up the good work.\" if predicted_score == 3 else \"\"\n",
    "\n",
    "# print(output_message)\n"
   ]
  },
  {
   "cell_type": "markdown",
   "id": "6daef868",
   "metadata": {},
   "source": [
    "## Writing tips"
   ]
  },
  {
   "cell_type": "code",
   "execution_count": 45,
   "id": "7b8976de",
   "metadata": {},
   "outputs": [
    {
     "name": "stderr",
     "output_type": "stream",
     "text": [
      "Some weights of the model checkpoint at bert-base-uncased were not used when initializing BertForSequenceClassification: ['cls.predictions.transform.dense.weight', 'cls.predictions.transform.dense.bias', 'cls.predictions.transform.LayerNorm.weight', 'cls.seq_relationship.weight', 'cls.seq_relationship.bias', 'cls.predictions.bias', 'cls.predictions.transform.LayerNorm.bias', 'cls.predictions.decoder.weight']\n",
      "- This IS expected if you are initializing BertForSequenceClassification from the checkpoint of a model trained on another task or with another architecture (e.g. initializing a BertForSequenceClassification model from a BertForPreTraining model).\n",
      "- This IS NOT expected if you are initializing BertForSequenceClassification from the checkpoint of a model that you expect to be exactly identical (initializing a BertForSequenceClassification model from a BertForSequenceClassification model).\n",
      "Some weights of BertForSequenceClassification were not initialized from the model checkpoint at bert-base-uncased and are newly initialized: ['classifier.weight', 'classifier.bias']\n",
      "You should probably TRAIN this model on a down-stream task to be able to use it for predictions and inference.\n",
      "C:\\Users\\PRASHANT\\AppData\\Local\\Temp\\ipykernel_6792\\3931471521.py:10: UserWarning: To copy construct from a tensor, it is recommended to use sourceTensor.clone().detach() or sourceTensor.clone().detach().requires_grad_(True), rather than torch.tensor(sourceTensor).\n",
      "  input_ids = torch.tensor(input_ids)\n"
     ]
    },
    {
     "name": "stdout",
     "output_type": "stream",
     "text": [
      "Based on your resume, we do not Recommend resume writing tips.\n",
      "Consider improving your resume by focusing on your skills and accomplishments.\n"
     ]
    }
   ],
   "source": [
    "# Load pre-trained BERT model and tokenizer\n",
    "tokenizer = BertTokenizer.from_pretrained('bert-base-uncased')\n",
    "model = BertForSequenceClassification.from_pretrained('bert-base-uncased', num_labels=2)\n",
    "\n",
    "# Define labels for classification\n",
    "labels = ['do not Recommend', 'Recommend']\n",
    "\n",
    "# Tokenize resume text and prepare it for input to BERT model\n",
    "input_ids = tokenizer.encode(text, add_special_tokens=True, max_length=1024, truncation=True, padding=True, return_tensors='pt')\n",
    "input_ids = torch.tensor(input_ids)\n",
    "\n",
    "# Predict label for input resume text\n",
    "outputs = model(input_ids)[0]\n",
    "_, predicted_label1 = torch.max(outputs, 1)\n",
    "predicted_label1 = predicted_label1.item()\n",
    "\n",
    "# Print recommendation based on predicted label\n",
    "print(f\"Based on your resume, we {labels[predicted_label1]} resume writing tips.\")\n",
    "if predicted_label1 == 0:\n",
    "    print(\"Consider improving your resume by focusing on your skills and accomplishments.\")\n",
    "else:\n",
    "    print(\"Great job! Your resume is already strong. Consider highlighting your achievements and quantifiable results.\")"
   ]
  },
  {
   "cell_type": "code",
   "execution_count": null,
   "id": "f074e58d",
   "metadata": {},
   "outputs": [],
   "source": []
  },
  {
   "cell_type": "code",
   "execution_count": 46,
   "id": "b62c3527",
   "metadata": {},
   "outputs": [
    {
     "name": "stderr",
     "output_type": "stream",
     "text": [
      "Some weights of the model checkpoint at bert-base-uncased were not used when initializing BertForSequenceClassification: ['cls.predictions.transform.dense.weight', 'cls.predictions.transform.dense.bias', 'cls.predictions.transform.LayerNorm.weight', 'cls.seq_relationship.weight', 'cls.seq_relationship.bias', 'cls.predictions.bias', 'cls.predictions.transform.LayerNorm.bias', 'cls.predictions.decoder.weight']\n",
      "- This IS expected if you are initializing BertForSequenceClassification from the checkpoint of a model trained on another task or with another architecture (e.g. initializing a BertForSequenceClassification model from a BertForPreTraining model).\n",
      "- This IS NOT expected if you are initializing BertForSequenceClassification from the checkpoint of a model that you expect to be exactly identical (initializing a BertForSequenceClassification model from a BertForSequenceClassification model).\n",
      "Some weights of BertForSequenceClassification were not initialized from the model checkpoint at bert-base-uncased and are newly initialized: ['classifier.weight', 'classifier.bias']\n",
      "You should probably TRAIN this model on a down-stream task to be able to use it for predictions and inference.\n"
     ]
    },
    {
     "name": "stdout",
     "output_type": "stream",
     "text": [
      "Your resume looks great! Keep up the good work.\n"
     ]
    }
   ],
   "source": [
    "# Load the pre-trained BERT model and tokenizer\n",
    "tokenizer = AutoTokenizer.from_pretrained('bert-base-uncased')\n",
    "model = AutoModelForSequenceClassification.from_pretrained('bert-base-uncased', num_labels=2)\n",
    "\n",
    "# Define resume writing tips and suggestions\n",
    "tips = {\n",
    "    \"Education\": \"Add information about your educational background, including your degree, major, and GPA.\",\n",
    "    \"Experience\": \"Provide detailed information about your work experience, including your job titles, responsibilities, and accomplishments.\",\n",
    "    \"Skills\": \"List relevant skills that you have, including technical skills and soft skills such as communication and teamwork.\",\n",
    "    \"Achievements\": \"Include any notable achievements, such as awards or recognition you have received.\",\n",
    "    \"Formatting\": \"Use a clear and easy-to-read format, with consistent formatting throughout your resume.\",\n",
    "}\n",
    "\n",
    "# Define a function to provide resume writing tips and suggestions\n",
    "def get_resume_tips(resume_text):\n",
    "    # Tokenize the resume text\n",
    "    input_ids = tokenizer.encode(resume_text, add_special_tokens=True, return_tensors='pt')\n",
    "\n",
    "    # Make a prediction with the BERT model\n",
    "    with torch.no_grad():\n",
    "        outputs = model(input_ids)\n",
    "        predicted_class = torch.argmax(outputs[0])\n",
    "\n",
    "    # Return the corresponding resume writing tip\n",
    "    if predicted_class == 0:\n",
    "        return \"Your resume looks great! Keep up the good work.\"\n",
    "    else:\n",
    "        return \"Here are some tips to improve your resume:\\n\" + \"\\n\".join([tips[t] for t in tips])\n",
    "\n",
    "# Example usage\n",
    "\n",
    "tips = get_resume_tips(text)\n",
    "print(tips)"
   ]
  },
  {
   "cell_type": "code",
   "execution_count": null,
   "id": "39d79e66",
   "metadata": {},
   "outputs": [],
   "source": []
  },
  {
   "cell_type": "code",
   "execution_count": null,
   "id": "ecbe88d9",
   "metadata": {},
   "outputs": [],
   "source": [
    "Resume Decomposition Chart:"
   ]
  },
  {
   "cell_type": "code",
   "execution_count": 47,
   "id": "a60d78be",
   "metadata": {},
   "outputs": [],
   "source": [
    "# Create dictionary with industrial and system engineering key terms by area\n",
    "terms = {'Quality/Six Sigma':['black belt','capability analysis','control charts','doe','dmaic','fishbone',\n",
    "                              'gage r&r', 'green belt','ishikawa','iso','kaizen','kpi','lean','metrics',\n",
    "                              'pdsa','performance improvement','process improvement','quality',\n",
    "                              'quality circles','quality tools','root cause','six sigma',\n",
    "                              'stability analysis','statistical analysis','tqm'],      \n",
    "        'Operations management':['automation','bottleneck','constraints','cycle time','efficiency','fmea',\n",
    "                                 'machinery','maintenance','manufacture','line balancing','oee','operations',\n",
    "                                 'operations research','optimization','overall equipment effectiveness',\n",
    "                                 'pfmea','process','process mapping','production','resources','safety',\n",
    "                                 'stoppage','value stream mapping','utilization'],\n",
    "        'Supply chain':['abc analysis','apics','customer','customs','delivery','distribution','eoq','epq',\n",
    "                        'fleet','forecast','inventory','logistic','materials','outsourcing','procurement',\n",
    "                        'reorder point','rout','safety stock','scheduling','shipping','stock','suppliers',\n",
    "                        'third party logistics','transport','transportation','traffic','supply chain',\n",
    "                        'vendor','warehouse','wip','work in progress'],\n",
    "        'Quality assurance':['requirement analysis', 'writing test cases', 'executing test cases', 'logging defects and tracking', \n",
    "                        'preparing test reports', 'Agile Methodology', 'Test Automation', 'Continuous Integration', 'Scrum', \n",
    "                        'Selenium', 'QTP', 'Jmeter','SDLC', 'STLC''requirement analysis', 'writing test cases', \n",
    "                        'executing test cases', 'logging defects and tracking','preparing test reports', \n",
    "                        'Agile Methodology', 'Test Automation', 'Continuous Integration', 'Scrum', 'Selenium', \n",
    "                        'QTP', 'Jmeter', 'SDLC', 'STLC'],\n",
    "        'Project management':['administration','agile','budget','cost','direction','feasibility analysis',\n",
    "                              'finance','kanban','leader','leadership','management','milestones','planning',\n",
    "                              'pmi','pmp','problem','project','risk','schedule','scrum','stakeholders'],\n",
    "        'Data analytics':['analytics','api','aws','big data','busines intelligence','clustering','code',\n",
    "                          'coding','data','database','data mining','data science','deep learning','hadoop',\n",
    "                          'hypothesis test','iot','internet','machine learning','modeling','nosql',\n",
    "                          'predictive','programming','python','r','sql','tableau','text mining',\n",
    "                          'visualuzation'],\n",
    "         'Legals':['Contract Preparation' , 'HIPAA Compliance' , 'Motions' , 'Pleadings' , 'Discovery Requests & Responses' , \n",
    "                           'Legal Research & Correspondence' , 'Docket Management' , 'Memorandums' , 'Arguments' , 'Mediation' , 'Compliance' \n",
    "                           , 'Problem Solving' , 'Client Relations' , 'Public Speaking' , 'Project Management' , 'Litigation' , 'Depositions' \n",
    "                           , 'Trial Preparation' , 'Insurance Reporting' , 'Negotiation Strategies'],\n",
    "         'Data Science':['analytics','CNN', 'MTCNN', 'Data Science', 'GAN', 'api','aws','big data','busines intelligence','clustering','code',\n",
    "                          'coding','data','database','data mining','data science','deep learning','machine learning','nosql','nlp',\n",
    "                          'predictive','programming','python','r','sql','tableau','text mining',\n",
    "                          'visualuzation'],\n",
    "        'Healthcare':['adverse events','care','clinic','cphq','ergonomics','healthcare',\n",
    "                      'health care','health','hospital','human factors','medical','near misses',\n",
    "                      'patient','reporting system']}"
   ]
  },
  {
   "cell_type": "code",
   "execution_count": 48,
   "id": "10eb0884",
   "metadata": {},
   "outputs": [],
   "source": [
    "# Initializie score counters for each area\n",
    "quality = 0\n",
    "operations = 0\n",
    "supplychain = 0\n",
    "project = 0\n",
    "data = 0\n",
    "healthcare = 0\n",
    "DataScience =0\n",
    "Legal = 0\n",
    "\n",
    "# Create an empty list where the scores will be stored\n",
    "scores = []\n",
    "\n",
    "# Obtain the scores for each area\n",
    "for area in terms.keys():\n",
    "        \n",
    "    if area == 'Quality/Six Sigma':\n",
    "        for word in terms[area]:\n",
    "            if word in text:\n",
    "                quality +=1\n",
    "        scores.append(quality)\n",
    "        \n",
    "    elif area == 'Operations management':\n",
    "        for word in terms[area]:\n",
    "            if word in text:\n",
    "                operations +=1\n",
    "        scores.append(operations)\n",
    "        \n",
    "    elif area == 'Legal':\n",
    "        for word in terms[area]:\n",
    "            if word in text:\n",
    "                operations +=1\n",
    "        scores.append(Legal)\n",
    "        \n",
    "    elif area == 'Supply chain':\n",
    "        for word in terms[area]:\n",
    "            if word in text:\n",
    "                supplychain +=1\n",
    "        scores.append(supplychain)\n",
    "        \n",
    "    elif area == 'Data Science':\n",
    "        for word in terms[area]:\n",
    "            if word in text:\n",
    "                DataScience +=1\n",
    "        scores.append(DataScience)\n",
    "        \n",
    "    elif area == 'Project management':\n",
    "        for word in terms[area]:\n",
    "            if word in text:\n",
    "                project +=1\n",
    "        scores.append(project)\n",
    "        \n",
    "    elif area == 'Data analytics':\n",
    "        for word in terms[area]:\n",
    "            if word in text:\n",
    "                data +=1\n",
    "        scores.append(data)\n",
    "        \n",
    "    else:\n",
    "        for word in terms[area]:\n",
    "            if word in text:\n",
    "                healthcare +=1\n",
    "        scores.append(healthcare)"
   ]
  },
  {
   "cell_type": "code",
   "execution_count": 49,
   "id": "fb8cde0c",
   "metadata": {},
   "outputs": [
    {
     "data": {
      "text/html": [
       "<div>\n",
       "<style scoped>\n",
       "    .dataframe tbody tr th:only-of-type {\n",
       "        vertical-align: middle;\n",
       "    }\n",
       "\n",
       "    .dataframe tbody tr th {\n",
       "        vertical-align: top;\n",
       "    }\n",
       "\n",
       "    .dataframe thead th {\n",
       "        text-align: right;\n",
       "    }\n",
       "</style>\n",
       "<table border=\"1\" class=\"dataframe\">\n",
       "  <thead>\n",
       "    <tr style=\"text-align: right;\">\n",
       "      <th></th>\n",
       "      <th>score</th>\n",
       "    </tr>\n",
       "  </thead>\n",
       "  <tbody>\n",
       "    <tr>\n",
       "      <th>Data analytics</th>\n",
       "      <td>13</td>\n",
       "    </tr>\n",
       "    <tr>\n",
       "      <th>Data Science</th>\n",
       "      <td>12</td>\n",
       "    </tr>\n",
       "    <tr>\n",
       "      <th>Project management</th>\n",
       "      <td>2</td>\n",
       "    </tr>\n",
       "    <tr>\n",
       "      <th>Healthcare</th>\n",
       "      <td>2</td>\n",
       "    </tr>\n",
       "    <tr>\n",
       "      <th>Quality/Six Sigma</th>\n",
       "      <td>1</td>\n",
       "    </tr>\n",
       "    <tr>\n",
       "      <th>Operations management</th>\n",
       "      <td>1</td>\n",
       "    </tr>\n",
       "    <tr>\n",
       "      <th>Supply chain</th>\n",
       "      <td>0</td>\n",
       "    </tr>\n",
       "    <tr>\n",
       "      <th>Quality assurance</th>\n",
       "      <td>0</td>\n",
       "    </tr>\n",
       "    <tr>\n",
       "      <th>Legals</th>\n",
       "      <td>0</td>\n",
       "    </tr>\n",
       "  </tbody>\n",
       "</table>\n",
       "</div>"
      ],
      "text/plain": [
       "                       score\n",
       "Data analytics            13\n",
       "Data Science              12\n",
       "Project management         2\n",
       "Healthcare                 2\n",
       "Quality/Six Sigma          1\n",
       "Operations management      1\n",
       "Supply chain               0\n",
       "Quality assurance          0\n",
       "Legals                     0"
      ]
     },
     "execution_count": 49,
     "metadata": {},
     "output_type": "execute_result"
    }
   ],
   "source": [
    "# Create a data frame with the scores summary\n",
    "summary = pd.DataFrame(scores,index=terms.keys(),columns=['score']).sort_values(by='score',ascending=False)\n",
    "summary"
   ]
  },
  {
   "cell_type": "code",
   "execution_count": 50,
   "id": "39558396",
   "metadata": {},
   "outputs": [
    {
     "data": {
      "image/png": "[encoded data removed]",
      "text/plain": [
       "<Figure size 1000x1000 with 1 Axes>"
      ]
     },
     "metadata": {},
     "output_type": "display_data"
    }
   ],
   "source": [
    "# Create pie chart visualization\n",
    "pie = plt.figure(figsize=(10,10))\n",
    "plt.pie(summary['score'], labels=summary.index, explode = (0.1,0,0,0,0,0,0,0,0), autopct='%1.0f%%',shadow=True,startangle=90)\n",
    "plt.title('Resume Decomposition by Areas')\n",
    "plt.axis('equal')\n",
    "plt.show()\n",
    "\n",
    "# Save pie chart as a .png file\n",
    "pie.savefig('resume_screening_results.png')"
   ]
  },
  {
   "cell_type": "code",
   "execution_count": null,
   "id": "4c14af7f",
   "metadata": {},
   "outputs": [],
   "source": []
  },
  {
   "cell_type": "code",
   "execution_count": 51,
   "id": "3030ed8b",
   "metadata": {},
   "outputs": [],
   "source": [
    "# pip install fpdf"
   ]
  },
  {
   "cell_type": "code",
   "execution_count": 52,
   "id": "56d392cf",
   "metadata": {},
   "outputs": [],
   "source": [
    "# from fpdf import FPDF\n",
    "\n",
    "# # Create a new PDF object\n",
    "# pdf = FPDF()\n",
    "\n",
    "# # Add a new page to the PDF\n",
    "# pdf.add_page()\n",
    "\n",
    "# # Set the font and font size\n",
    "# pdf.set_font(\"Arial\", size=16)\n",
    "\n",
    "# # Add some text to the PDF\n",
    "# pdf.cell(200, 10, txt=\"Hello, World!\", ln=1)\n",
    "# pdf.cell(200, 10, txt= tips, ln=1)\n",
    "\n",
    "# # Load the image and add it to the PDF\n",
    "# pdf.image(r\"C:\\Users\\PRASHANT\\Untitled Folder 3\\resume_screening_results.png\", x=10, y=20, w=100, h=100)\n",
    "\n",
    "# # Save the PDF to disk\n",
    "# pdf.output(\"output.pdf\")\n"
   ]
  },
  {
   "cell_type": "code",
   "execution_count": 53,
   "id": "e8916543",
   "metadata": {},
   "outputs": [
    {
     "data": {
      "text/plain": [
       "PyPDF2._reader.DocumentInformation"
      ]
     },
     "execution_count": 53,
     "metadata": {},
     "output_type": "execute_result"
    }
   ],
   "source": [
    "type(x2)"
   ]
  },
  {
   "cell_type": "code",
   "execution_count": 54,
   "id": "70f87b40",
   "metadata": {},
   "outputs": [
    {
     "data": {
      "text/plain": [
       "''"
      ]
     },
     "execution_count": 54,
     "metadata": {},
     "output_type": "execute_result"
    }
   ],
   "source": [
    "from fpdf import FPDF\n",
    "\n",
    "# Create a PDF object\n",
    "pdf = FPDF()\n",
    "\n",
    "# Add a page to the PDF\n",
    "pdf.add_page()\n",
    "\n",
    "\n",
    "# Set the font size\n",
    "pdf.set_font(\"Arial\", size=14)\n",
    "pdf.cell(100, 10, txt=\"Predicted Job Title\", ln=5)\n",
    "pdf.set_font(\"Arial\", size=12)\n",
    "pdf.multi_cell(w=200, h=10, txt= predicted_label)\n",
    "\n",
    "# Set the font size\n",
    "pdf.set_font(\"Arial\", size=14)\n",
    "\n",
    "# Add the first snippet of text\n",
    "pdf.cell(80, 10, txt=\"Summary\", ln=5)\n",
    "\n",
    "pdf.set_font(\"Arial\", size=10)\n",
    "# Add the first image\n",
    "# pdf.image(r\"C:\\Users\\PRASHANT\\Untitled Folder 3\\resume_screening_results.png\", x=10, y=20, w=100)\n",
    "# Add the second snippet of text\n",
    "# pdf.cell(200, 10, txt=summary[0]['summary_text'], ln=3)\n",
    "pdf.multi_cell(w=180, h=10, txt= x1)\n",
    "\n",
    "# Add the second image\n",
    "# pdf.image(r\"C:\\Users\\PRASHANT\\Untitled Folder 3\\resume_screening_results.png\", x=20, y=100, w=100)\n",
    "\n",
    "pdf.set_font(\"Arial\", size=14)\n",
    "\n",
    "# Add the first snippet of text\n",
    "pdf.cell(200, 10, txt=\"Level\", ln=5)\n",
    "pdf.set_font(\"Arial\", size=10)\n",
    "pdf.multi_cell(w=200, h=10, txt=category)\n",
    "# Set the font size\n",
    "pdf.set_font(\"Arial\", size=14)\n",
    "\n",
    "# Add the first snippet of text\n",
    "pdf.cell(200, 10, txt=\"Resume Score\", ln=5)\n",
    "pdf.set_font(\"Arial\", size=10)\n",
    "# Add the third snippet of text\n",
    "# pdf.cell(200, 10, txt= output_message, ln=5)\n",
    "pdf.multi_cell(w=100, h=10, txt=output_message)\n",
    "\n",
    "# Add the third image\n",
    "# pdf.image(\"image3.png\", x=10, y=80, w=100)\n",
    "\n",
    "pdf.set_font(\"Arial\", size=14)\n",
    "\n",
    "# Add the first snippet of text\n",
    "pdf.multi_cell(200, 10, txt= \"Tips\")\n",
    "pdf.set_font(\"Arial\", size=10)\n",
    "\n",
    "# Add the fourth snippet of text\n",
    "pdf.multi_cell(200, 10, txt=tips)\n",
    "pdf.image(r\"C:\\Users\\PRASHANT\\Untitled Folder 3\\1.png\", x=160, y=10, w=30)\n",
    "pdf.image(r\"C:\\Users\\PRASHANT\\Untitled Folder 3\\resume_screening_results.png\", x=10, y=180, w=150)\n",
    "\n",
    "\n",
    "# Save the PDF document\n",
    "pdf.output(\"my_document.pdf\")"
   ]
  },
  {
   "cell_type": "code",
   "execution_count": null,
   "id": "ebc1256d",
   "metadata": {},
   "outputs": [],
   "source": []
  },
  {
   "cell_type": "code",
   "execution_count": 55,
   "id": "4b4dda63",
   "metadata": {},
   "outputs": [],
   "source": []
  },
  {
   "cell_type": "code",
   "execution_count": 56,
   "id": "94ee43be",
   "metadata": {},
   "outputs": [],
   "source": []
  },
  {
   "cell_type": "code",
   "execution_count": null,
   "id": "519535cf",
   "metadata": {},
   "outputs": [],
   "source": []
  }
 ],
 "metadata": {
  "kernelspec": {
   "display_name": "Python 3 (ipykernel)",
   "language": "python",
   "name": "python3"
  },
  "language_info": {
   "codemirror_mode": {
    "name": "ipython",
    "version": 3
   },
   "file_extension": ".py",
   "mimetype": "text/x-python",
   "name": "python",
   "nbconvert_exporter": "python",
   "pygments_lexer": "ipython3",
   "version": "3.9.13"
  }
 },
 "nbformat": 4,
 "nbformat_minor": 5
}
